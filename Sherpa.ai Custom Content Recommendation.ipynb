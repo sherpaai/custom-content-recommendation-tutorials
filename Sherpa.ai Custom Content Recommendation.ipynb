{
 "cells": [
  {
   "cell_type": "markdown",
   "metadata": {},
   "source": [
    "![alt text](sherpa.ai.png \"Sherpa.ai\")\n",
    "# Custom Content API Tutorial\n",
    "The goal of this tutorial is to provide detailed, step-by-step instructions to build the minimal structure for a recommender system. The examples provided in this tutorial are based on the dataset [Data Science for Good: DonorsChoose.org](https://www.kaggle.com/donorschoose/io).\n",
    "\n",
    "We are going to build a system that recommends projects to donors with similar interests, based on previous donations.\n",
    "\n",
    "### Nota Bene\n",
    "In order to improve the readability of this tutorial, a helper `SherpaRequest` has been created, where the headers required to authenticate the API user are set. Please, refer to the [documentation](https://developers.sherpa.ai/recommender/custom-content-recommendation-api/api-reference/authentication) for the corresponding instructions.\n",
    "\n",
    "## Setup the helper with your keys\n",
    "You can find them in your account information in the private area: https://developers.sherpa.ai/account/."
   ]
  },
  {
   "cell_type": "code",
   "execution_count": null,
   "metadata": {},
   "outputs": [],
   "source": [
    "import sherpa_request\n",
    "from sherpa_request import *\n",
    "\n",
    "# Setup the request helper\n",
    "sherpa_request.sherpa_api_key = \"YOUR_API_KEY\"\n",
    "sherpa_request.sherpa_private_key = \"YOUR_PRIVATE_KEY\""
   ]
  },
  {
   "cell_type": "markdown",
   "metadata": {},
   "source": [
    "## Building a Recommender System\n",
    "### Create a Catalog\n",
    "This section shows how to build the structure of an item catalog. In this case, we have a CSV file containing the following information about projects from DonorsChoose:\n",
    "\n",
    "Field | Description\n",
    "--- | ---\n",
    "`itemId` | A string that uniquely identifies each project\n",
    "`name` | The title of the project\n",
    "`description` | A description of the project, the school, etc.\n",
    "`needStatement` | The specific requirements to accomplish the project\n",
    "`category` | The area or subject the project fits into\n",
    "`level` | The level of the classroom\n",
    "`resource` | The type of requested resources\n",
    "`cost` | The total amount ($) needed to meet the needs of the project\n",
    "`status` | The current status of the proposal\n",
    "\n",
    "### Create a Table\n",
    "First of all, we have to create a new table, called `projects`, in the database.\n",
    "\n",
    "You can also add the attributes. There are two parameters that need to be specified (see the documentation for a detailed explanation). The first, the type of attribute, is mandatory. The second, indexed, should only be used for those attributes that will be used to filter the projects."
   ]
  },
  {
   "cell_type": "code",
   "execution_count": null,
   "metadata": {},
   "outputs": [],
   "source": [
    "SherpaRequest(SherpaRequest.Verb.POST, \"/v2/recomm/tables\", data='{\\\"tableId\\\": \\\"projects\\\",\\\"engine\\\": \\\"content_based\\\", \\\"attributes\\\": [{\\\"attributeId\\\": \\\"name\\\",\\\"type\\\": \\\"string\\\"}, {\\\"attributeId\\\": \\\"description\\\",\\\"type\\\": \\\"string\\\"}, {\\\"attributeId\\\": \\\"needStatement\\\",\\\"type\\\": \\\"string\\\"}, {\\\"attributeId\\\": \\\"category\\\",\\\"type\\\": \\\"set\\\"}, {\\\"attributeId\\\": \\\"level\\\",\\\"type\\\": \\\"category\\\",\\\"indexed\\\": \\\"true\\\"}, {\\\"attributeId\\\": \\\"resource\\\",\\\"type\\\": \\\"category\\\",\\\"indexed\\\": \\\"true\\\"}, {\\\"attributeId\\\": \\\"cost\\\",\\\"type\\\": \\\"double\\\"}, {\\\"attributeId\\\": \\\"status\\\",\\\"type\\\": \\\"category\\\",\\\"indexed\\\": \\\"true\\\"} ]}').perform_request();"
   ]
  },
  {
   "cell_type": "markdown",
   "metadata": {},
   "source": [
    "By default, when a new table is created, the system creates three attributes: `expiration`. We can check, by using the following command:"
   ]
  },
  {
   "cell_type": "code",
   "execution_count": null,
   "metadata": {},
   "outputs": [],
   "source": [
    "SherpaRequest(SherpaRequest.Verb.GET, \"/v2/recomm/projects/attributes\").perform_request();"
   ]
  },
  {
   "cell_type": "markdown",
   "metadata": {},
   "source": [
    "### Add a New Item\n",
    "\n",
    "Now we can add items to the catalog. Let us consider the following project:\n",
    "\n",
    "Field | Value\n",
    "--- | ---\n",
    "itemId | 69da11b15b82cf59c389ba81c444731e\n",
    "name | A Whole New World\n",
    "description | Seeing my students learn is the thing that makes me the happiest. I love to be able to give them all the information that they need in order to understand and appreciate the world that they live in. Curious, creative, and very vocal, my students are the future of our society and I want to make sure they are equipped and ready to handle it. Faced with some difficult obstacles that they have to go through in their own neighborhood, I want them to know that the obstacles in the classroom can be overcome. With hard work and determination they will become the best of our future. My students truly love science. They enjoy the lessons that they do in class. An iPad can show them so much more about science. They would be able to watch videos about animals, see the different stages of matter and observe the life cycle of a plant. My students need to see first hand how science works in the world. I want them to see how science is all around them everyday by them focusing on the plants and trees, the sun and the water cycle. An iPad will show the students in real time how science affects us worldwide.\n",
    "needStatement | My students need an iPad to help them learn more about science.\n",
    "category | Math & Science\n",
    "level | Grades PreK-2\n",
    "resource | Computers & Tablets\n",
    "cost | 374.64\n",
    "status | Live\n",
    "\n",
    "We can add it to the database by using the following command:"
   ]
  },
  {
   "cell_type": "code",
   "execution_count": null,
   "metadata": {},
   "outputs": [],
   "source": [
    "SherpaRequest(SherpaRequest.Verb.POST, \"/v2/recomm/projects/items\", data='{\\\"itemId\\\": \\\"69da11b15b82cf59c389ba81c444731e\\\",\\\"name\\\": \\\"A Whole New World\\\",\\\"description\\\": \\\"Seeing my students learn is the thing that makes me the happiest. I love to be able to give them all the information that they need in order to understand and appreciate the world that they live in. Curious, creative, and very vocal, my students are the future of our society and I want to make sure they are equipped and ready to handle it. Faced with some difficult obstacles that they have to go through in their own neighborhood, I want them to know that the obstacles in the classroom can be overcome. With hard work and determination they will become the best of our future. My students truly love science. They enjoy the lessons that they do in class. An iPad can show them so much more about science. They would be able to watch videos about animals, see the different stages of matter and observe the life cycle of a plant. My students need to see first hand how science works in the world. I want them to see how science is all around them everyday by them focusing on the plants and trees, the sun and the water cycle. An iPad will show the students in real time how science affects us worldwide.\\\",\\\"needStatement\\\": \\\"My students need an iPad to help them learn more about science.\\\",\\\"category\\\": [\\\"Math & Science\\\"],\\\"level\\\": \\\"Grades PreK-2\\\",\\\"resource\\\": \\\"Computers & Tablets\\\",\\\"cost\\\": 374.64,\\\"status\\\": \\\"Live\\\"}').perform_request();"
   ]
  },
  {
   "cell_type": "markdown",
   "metadata": {},
   "source": [
    "This operation can be done anytime we want to include a new item in the catalog. However, the API also has an endpoint to load massive data from a single file at once. Go to [Loading Massive Data](#Loading-Massive-Data) for a detailed example about this option.\n",
    "\n",
    "\n",
    "\n",
    "The following `GET` command confirms that the item has been correctly stored in the database:"
   ]
  },
  {
   "cell_type": "code",
   "execution_count": null,
   "metadata": {},
   "outputs": [],
   "source": [
    "SherpaRequest(SherpaRequest.Verb.GET, \"/v2/recomm/projects/items/69da11b15b82cf59c389ba81c444731e\").perform_request();"
   ]
  },
  {
   "cell_type": "markdown",
   "metadata": {},
   "source": [
    "### Define the User Profile\n",
    "In this section, we will explain how to define the profile of the donors that will get recommendations about projects from DonorsChoose. In this example, we are going to work with a CSV file containing the following information about the donors:\n",
    "\n",
    "Field | Description\n",
    "--- | ---\n",
    "userId | A string that uniquely identifies each donor\n",
    "city | The donor's city of residence\n",
    "state | The donor's state of residence\n",
    "isTeacher | Whether the donor is a teacher or not\n",
    "zipCode | The first three digits of the zip code of the donor's place of residence\n",
    "\n",
    "### Create User Attributes\n",
    "When adding new attributes, there are two parameters that need to be specified (see [documentation](https://developers.sherpa.ai/recommender/custom-content-recommendation-api/api-reference/users/) for a detailed explanation), the same as for item attributes: `type` and `indexed`.\n",
    "\n",
    "**Note**: There is no need to create the `userId` attribute, since it is managed internally by the API.\n",
    "\n",
    "In this case, we will choose `city`, `state` and `isTeacher` as indexable attributes. The commands are the following:"
   ]
  },
  {
   "cell_type": "code",
   "execution_count": null,
   "metadata": {},
   "outputs": [],
   "source": [
    "SherpaRequest(SherpaRequest.Verb.POST, \"/v2/recomm/users/attributes\", data='{\\\"attributes\\\": [{\\\"attributeId\\\": \\\"city\\\",\\\"type\\\": \\\"string\\\",\\\"indexed\\\": \\\"true\\\"},{\\\"attributeId\\\": \\\"state\\\",\\\"type\\\": \\\"category\\\",\\\"indexed\\\": \\\"true\\\"},{\\\"attributeId\\\": \\\"isTeacher\\\",\\\"type\\\": \\\"boolean\\\",\\\"indexed\\\": \\\"true\\\"},{\\\"attributeId\\\": \\\"zipCode\\\",\\\"type\\\": \\\"int\\\"}]}').perform_request();"
   ]
  },
  {
   "cell_type": "markdown",
   "metadata": {},
   "source": [
    "To confirm that all attributes were added correctly, we can run the `GET` command:"
   ]
  },
  {
   "cell_type": "code",
   "execution_count": null,
   "metadata": {},
   "outputs": [],
   "source": [
    "SherpaRequest(SherpaRequest.Verb.GET, \"/v2/recomm/users/attributes\").perform_request();"
   ]
  },
  {
   "cell_type": "markdown",
   "metadata": {},
   "source": [
    "### Add a New User\n",
    "It is time to add a new user to the database. Let us consider the following donor:\n",
    "\n",
    "Field | Value\n",
    "--- | ---\n",
    "userId | 5f24f7ece308e11c9e31a6b9ad53cf68\n",
    "city | Hempstead\n",
    "state | New York\n",
    "isTeacher | Yes\n",
    "zipCode | 115\n",
    "\n",
    "We can add them to the database, by using the following command:"
   ]
  },
  {
   "cell_type": "code",
   "execution_count": null,
   "metadata": {},
   "outputs": [],
   "source": [
    "SherpaRequest(SherpaRequest.Verb.POST, \"/v2/recomm/users\", data='{\\\"userId\\\": \\\"5f24f7ece308e11c9e31a6b9ad53cf68\\\",\\\"city\\\": \\\"Hempstead\\\",\\\"state\\\": \\\"New York\\\",\\\"isTeacher\\\": \\\"Yes\\\",\\\"zipCode\\\": 115}').perform_request();"
   ]
  },
  {
   "cell_type": "markdown",
   "metadata": {},
   "source": [
    "Users can be created this way, or by means of an endpoint for massive data loading from a file. Go to [Loading Massive Data](#Loading-Massive-Data) for a detailed example about this option.\n",
    "\n",
    "We can confirm that the donor has been correctly registered, using the following `GET` command:"
   ]
  },
  {
   "cell_type": "code",
   "execution_count": null,
   "metadata": {},
   "outputs": [],
   "source": [
    "SherpaRequest(SherpaRequest.Verb.GET, \"/v2/recomm/users/5f24f7ece308e11c9e31a6b9ad53cf68\").perform_request();"
   ]
  },
  {
   "cell_type": "markdown",
   "metadata": {},
   "source": [
    "### Register Interactions\n",
    "\n",
    "The basis of the recommender systems that the API provides is the set of interactions between users and items. In this section, we consider donations made by donors to the existing projects.\n",
    "\n",
    "#### Create a Type of Interaction\n",
    "\n",
    "First of all, the interaction itself needs to be defined. There are five parameters to customize it: `weight`, `cumulative`, `interactionType`, `maxValue`, and `minValue` (see the [documentation](https://developers.sherpa.ai/recommender/custom-content-recommendation-api/api-reference/items/) for specific details about each of them). In this case, donations can be cumulative with a continuous nonnegative value. Thus, the command to create it is the following:"
   ]
  },
  {
   "cell_type": "code",
   "execution_count": null,
   "metadata": {},
   "outputs": [],
   "source": [
    "SherpaRequest(SherpaRequest.Verb.POST, \"/v2/recomm/projects/interactions\", data='{\\\"interactionId\\\": \\\"donate\\\",\\\"type\\\": \\\"continuous\\\",\\\"cumulative\\\": true,\\\"weight\\\": 1.0,\\\"minValue\\\": 0.0}').perform_request();"
   ]
  },
  {
   "cell_type": "markdown",
   "metadata": {},
   "source": [
    "**Note**: We arbitrarily assigned weight 1.0 to the interaction, since we only consider one interaction type. This parameter becomes relevant when two or more interaction types come into play.\n",
    "\n",
    "A `GET` command can confirm that the insertion is correct. The response contains all the parameters, including those that we did not fix:"
   ]
  },
  {
   "cell_type": "code",
   "execution_count": null,
   "metadata": {},
   "outputs": [],
   "source": [
    "SherpaRequest(SherpaRequest.Verb.GET, \"/v2/recomm/projects/interactions\").perform_request();"
   ]
  },
  {
   "cell_type": "markdown",
   "metadata": {},
   "source": [
    "### Register a New Interaction\n",
    "Once the interaction is created, we can upload the donations to the projects. For example, let us consider the following:\n",
    "\n",
    "Field | Value\n",
    "--- | ---\n",
    "userId | 5f24f7ece308e11c9e31a6b9ad53cf68\n",
    "itemId | 69da11b15b82cf59c389ba81c444731e\n",
    "interactionId | donate\n",
    "timestamp | 2018-04-15 13:06:01\n",
    "value | 25\n",
    "\n",
    "**Note**: When inserting new interactions, timestamps need to be expressed as epoch times in milliseconds.\n",
    "\n",
    "We can add it to the database by using the following command:"
   ]
  },
  {
   "cell_type": "code",
   "execution_count": null,
   "metadata": {},
   "outputs": [],
   "source": [
    "SherpaRequest(SherpaRequest.Verb.POST, \"/v2/recomm/projects/interactions/donate/5f24f7ece308e11c9e31a6b9ad53cf68/69da11b15b82cf59c389ba81c444731e\", data='{\\\"timestamp\\\": 1523797561000,\\\"value\\\": 25}').perform_request();"
   ]
  },
  {
   "cell_type": "markdown",
   "metadata": {},
   "source": [
    "To check that the previous command saved the data correctly, we can list the interactions made by that user. This command returns the unique interaction that the user has:"
   ]
  },
  {
   "cell_type": "code",
   "execution_count": null,
   "metadata": {},
   "outputs": [],
   "source": [
    "SherpaRequest(SherpaRequest.Verb.GET, \"/v2/recomm/projects/users/5f24f7ece308e11c9e31a6b9ad53cf68/donate\").perform_request();"
   ]
  },
  {
   "cell_type": "markdown",
   "metadata": {},
   "source": [
    "It is also possible to check by listing the donations made to the project:"
   ]
  },
  {
   "cell_type": "code",
   "execution_count": null,
   "metadata": {},
   "outputs": [],
   "source": [
    "SherpaRequest(SherpaRequest.Verb.GET, \"/v2/recomm/projects/items/69da11b15b82cf59c389ba81c444731e/donate\").perform_request();"
   ]
  },
  {
   "cell_type": "markdown",
   "metadata": {},
   "source": [
    "## Loading Massive Data\n",
    "### Quickstart Guide\n",
    "In this tutorial, we provide examples about loading files including multiple users, items, or interactions, the three cases being quite similar. As stated in [Building a Recommender System](#Building-a-Recommender-System), both users and items can be introduced, one by one, into the recommender system. However, it can be helpful to load multiple entities by using a single command. For instance, that would be the case when migrating an existing database.\n",
    "\n",
    "In these examples, we assume that the structure has already been created (see [Building a Recommender System](#Building-a-Recommender-System) for step-by-step instructions). We have sampled three of the files from the dataset [Data Science for Good: DonorsChoose.org](https://www.kaggle.com/donorschoose/io), in order to simplify the examples:\n",
    "\n",
    "- [`Projects.csv`](https://recommender-tutorial-data-set.s3-eu-west-1.amazonaws.com/Projects.csv): 12,804 projects (or items).\n",
    "- [`Donors.csv`](https://recommender-tutorial-data-set.s3-eu-west-1.amazonaws.com/Donors.csv): 2,000 donors (or users).\n",
    "- [`Donations.csv`](https://recommender-tutorial-data-set.s3-eu-west-1.amazonaws.com/Donations.csv): 4,975 donations (or interactions).\n",
    "\n",
    "### File Formats\n",
    "Currently, the Sherpa.ai Custom Content Recommendation API is capable of interpreting two file formats: JSON and CSV. You can choose the one that best fits your needs, as long as the contents are correctly structured:\n",
    "\n",
    "Type of data | Mandatory fields | Optional fields | Observations\n",
    "--- | --- | --- | ---\n",
    "Items | `itemId` | Any item attribute | Item attributes have to be previously defined. Items have to be new; updates are not allowed.\n",
    "Users | `userId` | Any user attribute | User attributes have to be previously defined. Users have to be new; updates are not allowed.\n",
    "Interactions | `itemId`, `userId`, `interactionId`, `timestamp` | `value` | The interaction types have to be previously defined. User-item interactions have to be new; updates are not allowed.\n",
    "\n",
    "### Register an Upload Order\n",
    "First, a batch upload order is required for each of the files. The files `Projects.csv`, `Donors.csv` and `Donations.csv`, which are already uploaded on `https://recommender-tutorial-data-set.s3-eu-west-1.amazonaws.com/`, contain the data we want to upload. The JSONs returned in the response to these commands include two fields: `requestId` and `status`. The former is the needed to check the order status, which is indicated by the latter. We will keep a reference to the request paths and `requestId`s for the next steps, where we will check the upload status."
   ]
  },
  {
   "cell_type": "code",
   "execution_count": null,
   "metadata": {},
   "outputs": [],
   "source": [
    "batchUploadRequests = {}\n",
    "response = SherpaRequest(SherpaRequest.Verb.POST, \"/v2/recomm/projects/items/batch\", data='{\\\"url\\\": \\\"https://recommender-tutorial-data-set.s3-eu-west-1.amazonaws.com/Projects.csv\\\",\\\"format\\\": \\\"csv\\\"}').perform_request();\n",
    "batchUploadRequests[\"/v2/recomm/projects/items/batch\"] = json.loads(response.text)[\"requestId\"]\n",
    "response = SherpaRequest(SherpaRequest.Verb.POST, \"/v2/recomm/users/batch\", data='{\\\"url\\\": \\\"https://recommender-tutorial-data-set.s3-eu-west-1.amazonaws.com/Donors.csv\\\",\\\"format\\\": \\\"csv\\\"}').perform_request();\n",
    "batchUploadRequests[\"/v2/recomm/users/batch\"] = json.loads(response.text)[\"requestId\"]\n",
    "response = SherpaRequest(SherpaRequest.Verb.POST, \"/v2/recomm/projects/interactions/batch\", data='{\\\"url\\\": \\\"https://recommender-tutorial-data-set.s3-eu-west-1.amazonaws.com/Donations.csv\\\",\\\"format\\\": \\\"csv\\\"}').perform_request();\n",
    "batchUploadRequests[\"/v2/recomm/projects/interactions/batch\"] = json.loads(response.text)[\"requestId\"]"
   ]
  },
  {
   "cell_type": "markdown",
   "metadata": {},
   "source": [
    "### Check Processing Status\n",
    "The work orders are processed on-demand, but if those commands are run immediately after posting the orders, the response will be the same as above (`queued`). When the system starts to process the files, the status will change to `processing`."
   ]
  },
  {
   "cell_type": "code",
   "execution_count": null,
   "metadata": {},
   "outputs": [],
   "source": [
    "for path, requestId in batchUploadRequests.items():\n",
    "    SherpaRequest(SherpaRequest.Verb.GET, path + \"/\" + requestId).perform_request();"
   ]
  },
  {
   "cell_type": "markdown",
   "metadata": {},
   "source": [
    "Depending on the file sizes, the process can last anywhere from minutes to hours.\n",
    "\n",
    "### Verify Completed Uploads\n",
    "\n",
    "After the uploading operation finishes, if no fatal error has occurred, there are two possible statuses: `completed` and `completed with errors`. The former asserts that all the elements in the files were uploaded correctly, whereas the latter is returned when some of them could not be saved correctly. This last one will be the case for three of the files:\n",
    "\n",
    "- The donations file includes the one saved in [Add a New Item](#Add-a-New-Item), so that duplicate is detected.\n",
    "- The donor from [Add a New User](#Add-a-New-User) is also detected as a duplicate.\n",
    "- The interactions file contains more errors. There are many duplicates (including the donation that had already been saved in [Register a New Interaction](#Register-a-New-Interaction)), due to the fact that there can only be one interaction per timestamp (with millisecond precision).\n",
    "\n",
    "We will now wait until the datasets have been uploaded:"
   ]
  },
  {
   "cell_type": "code",
   "execution_count": null,
   "metadata": {},
   "outputs": [],
   "source": [
    "processingStatuses = [\"queued\", \"processing\"]\n",
    "processedRequestIds = {}\n",
    "while len(processedRequestIds) != len(batchUploadRequests):\n",
    "    for path, requestId in batchUploadRequests.items():\n",
    "        if requestId not in processedRequestIds.keys():\n",
    "            request = SherpaRequest(SherpaRequest.Verb.GET, path + \"/\" + requestId)\n",
    "            response = request.perform_request(pretty_print=False);\n",
    "            if json.loads(response.text)[\"status\"] in processingStatuses:\n",
    "                response = None\n",
    "                print(\".\", end=\"\")\n",
    "                time.sleep(5)\n",
    "            else:\n",
    "                processedRequestIds[requestId] = response\n",
    "                clear_output(wait=True)\n",
    "                print(\"Processed \" + str(len(processedRequestIds)) + \" of \" + str(len(batchUploadRequests)))\n",
    "clear_output(wait=True)\n",
    "for response in processedRequestIds.values():\n",
    "    SherpaRequest.pretty_print_response(response=response)"
   ]
  },
  {
   "cell_type": "markdown",
   "metadata": {},
   "source": [
    "## Training a Model\n",
    "#### Quickstart Guide\n",
    "In order to perform accurate recommendations, the model needs to be trained. The training can be performed on-demand at any time. At the moment, it's possible to train a model for the following engines: `hybrid` and `content_based`.\n",
    "\n",
    "**Note**: For the correct model to be generated, the engine must match the one selected for recommendations when [Creating a Table](#Create-a-Table). Additional trainings might be performed for different engines, but they will have no effect on the recommendations of each other.\n",
    "\n",
    "### On-demand training\n",
    "In order to make recommendation using the `content_based` engine, we will train the model for the dataset we've loaded in [Loading Massive Data](#Loading-Massive-Data):"
   ]
  },
  {
   "cell_type": "code",
   "execution_count": null,
   "metadata": {},
   "outputs": [],
   "source": [
    "response = SherpaRequest(SherpaRequest.Verb.POST, \"/v2/recomm/projects/train\", data='{\\\"engine\\\" : \\\"content_based\\\"}').perform_request();\n",
    "trainingRequestId = json.loads(response.text)[\"requestId\"]"
   ]
  },
  {
   "cell_type": "markdown",
   "metadata": {},
   "source": [
    "We will now wait for the training to end:"
   ]
  },
  {
   "cell_type": "code",
   "execution_count": null,
   "metadata": {},
   "outputs": [],
   "source": [
    "processingStatuses = [\"queued\", \"processing\"]\n",
    "while trainingRequestId != None:\n",
    "    request = SherpaRequest(SherpaRequest.Verb.GET, \"/v2/recomm/projects/train/\" + trainingRequestId)\n",
    "    response = request.perform_request(pretty_print=False);\n",
    "    if json.loads(response.text)[\"status\"] in processingStatuses:\n",
    "        response = None\n",
    "        print(\".\", end=\"\")\n",
    "        time.sleep(5)\n",
    "    else:\n",
    "        trainingRequestId = None\n",
    "        break\n",
    "clear_output(wait=True)\n",
    "SherpaRequest.pretty_print_response(response=response) "
   ]
  },
  {
   "cell_type": "markdown",
   "metadata": {},
   "source": [
    "## Making Recommendations\n",
    "#### Quickstart Guide\n",
    "\n",
    "The Sherpa.ai Custom Content Recommendation API is meant to provide you with relevant recommendations based on the characteristics, tastes, and interactions of both users and items. The goal of this tutorial is to provide some insight into the options that the API offers.\n",
    "\n",
    "The examples provided are based on two datasets. On the one hand, we will use [Data Science for Good: DonorsChoose.org](https://www.kaggle.com/donorschoose/io), regarding school projects and people that make donations to fund them (in particular, the files `Projects.csv`, `Donors.csv` and `Donations.csv` presented in [Building a Recommender System](#Building-a-Recommender-System)). On the other hand, we will use [MovieLens 100K](https://grouplens.org/datasets/movielens/100k/) and, more specifically, the files `u.item` (for movies), `u.user` (for users), and `u.data` (for ratings given to movies by users). In the following examples, we will assume that the whole of the datasets has been imported into the API. Please, refer to [Building a Recommender System](#Building-a-Recommender-System) and [Loading Massive Data](#Loading-Massive-Data) for step-by-step instructions.\n",
    "\n",
    "### Choose a Recommender Engine\n",
    "\n",
    "Building useful recommendations is the main objective of the API. To achieve this, it is very important to choose the recommender engine that best fits the characteristics of the dataset.\n",
    "\n",
    "This selection can be made when creating the table (see [Building a Recommender System](#Create-a-Table)), and can also be changed at any time:"
   ]
  },
  {
   "cell_type": "code",
   "execution_count": null,
   "metadata": {},
   "outputs": [],
   "source": [
    "SherpaRequest(SherpaRequest.Verb.PATCH, \"/v2/recomm/tables/projects\", data='{\\\"engine\\\": \\\"content_based\\\"}').perform_request();"
   ]
  },
  {
   "cell_type": "markdown",
   "metadata": {},
   "source": [
    "The examples included in this tutorial cover the use of both engines. Since the [DonorsChoose.org](https://www.kaggle.com/donorschoose/io) dataset has some long text fields (such as `description` and `needStatement`), the most appropriate choice seems to be the [Content-based](https://developers.sherpa.ai/recommender/custom-content-recommendation-api/how-it-works#recommendations) engine. However, the several numerical and categorical fields of the [MovieLens 100K](https://grouplens.org/datasets/movielens/100k/) dataset make it suitable for the [Hybrid](https://developers.sherpa.ai/recommender/custom-content-recommendation-api/how-it-works#recommendations) engine.\n",
    "\n",
    "**Note**: The API is meant to work with a unique set of users, regardless of the number of item catalogs. Therefore, we recommend deleting any existing datasets, before trying a new one.\n",
    "\n",
    "### Content-based Recommender Engine\n",
    "\n",
    "At this point, we have already created a catalog of projects from [DonorsChoose.org](https://www.kaggle.com/donorschoose/io) and saved information and donations made by many users. Thus, the system is ready to recommend new projects to donors. Let us recall that we have chosen the [Content-based recommender engine](https://developers.sherpa.ai/recommender/custom-content-recommendation-api/how-it-works#recommendations) to build the recommendations.\n",
    "\n",
    "There are two ways of recommending new items to users: general recommendations and filtered recommendations.\n",
    "\n",
    "#### General Recommendations\n",
    "\n",
    "Let us consider user `5f24f7ece308e11c9e31a6b9ad53cf68` [again](#Add-a-New-User). After the batch import done in [Loading Massive Data](#Loading-Massive-Data), we have 74 donations made by this user to 45 different projects."
   ]
  },
  {
   "cell_type": "markdown",
   "metadata": {},
   "source": [
    "The first and most general way of recommending simply consists of returning the most suitable projects, without any further restrictions:"
   ]
  },
  {
   "cell_type": "code",
   "execution_count": null,
   "metadata": {},
   "outputs": [],
   "source": [
    "SherpaRequest(SherpaRequest.Verb.GET, \"/v2/recomm/projects/users/5f24f7ece308e11c9e31a6b9ad53cf68/items?limit=5\").perform_request();"
   ]
  },
  {
   "cell_type": "markdown",
   "metadata": {},
   "source": [
    "**Note**: The `limit` parameter is optional, but preferable. If it is not used, the API can return up to 500 items. For pagination, use the `afterId` parameter."
   ]
  },
  {
   "cell_type": "markdown",
   "metadata": {},
   "source": [
    "#### Filtered Recommendations\n",
    "\n",
    "When making recommendations, we can also impose restrictions on the set of recommendable elements. Using [RSQL](https://developers.sherpa.ai/recommender/custom-content-recommendation-api/api-reference/rsql), we can define conditions to be fulfilled by the items to be recommended. It is important for the attributes used here to be indexed, in order to obtain recommendations in an acceptable amount of time (refer to the [documentation](https://developers.sherpa.ai/recommender/custom-content-recommendation-api/api-reference/items#add-item-attribute) for further details).\n",
    "\n",
    "Let's consider user `5f24f7ece308e11c9e31a6b9ad53cf68` [again](#Add-a-New-User). After the batch import done in [Loading Massive Data](#Loading-Massive-Data), we have 74 donations made by this user to 45 different projects.\n",
    "\n",
    "In our [Create a Catalog](#Create-a-Catalog) example, we defined three indexed attributes: `level`, `resource` and `status`. Let us consider, for instance, projects of \"Grades 3-5\" level.\n",
    "\n",
    "The response obviously contains the project shown above; if it is interesting without restrictions, it is even more so if it satisfies them. But the response includes other recommendations:"
   ]
  },
  {
   "cell_type": "code",
   "execution_count": null,
   "metadata": {},
   "outputs": [],
   "source": [
    "SherpaRequest(SherpaRequest.Verb.GET, \"/v2/recomm/projects/users/5f24f7ece308e11c9e31a6b9ad53cf68/items?limit=5&filter=level==\\\"Grades PreK-2\\\"\").perform_request();"
   ]
  },
  {
   "cell_type": "markdown",
   "metadata": {},
   "source": [
    "#### Delete [DonorsChoose.org](https://www.kaggle.com/donorschoose/io) example's data and setup\n",
    "The API is meant to work with a unique set of users, regardless of the number of item catalogs. Therefore, we recommend deleting any existing datasets, before trying a new one.\n",
    "\n",
    "Run the cell below to remove the data and the setup:"
   ]
  },
  {
   "cell_type": "code",
   "execution_count": null,
   "metadata": {},
   "outputs": [],
   "source": [
    "SherpaRequest(SherpaRequest.Verb.DELETE, \"/v2/recomm/tables/projects\").perform_request();\n",
    "SherpaRequest(SherpaRequest.Verb.DELETE, \"/v2/recomm/users\").perform_request();\n",
    "SherpaRequest(SherpaRequest.Verb.DELETE, \"/v2/recomm/users/attributes/city\").perform_request();\n",
    "SherpaRequest(SherpaRequest.Verb.DELETE, \"/v2/recomm/users/attributes/state\").perform_request();\n",
    "SherpaRequest(SherpaRequest.Verb.DELETE, \"/v2/recomm/users/attributes/zipCode\").perform_request();\n",
    "SherpaRequest(SherpaRequest.Verb.DELETE, \"/v2/recomm/users/attributes/isTeacher\").perform_request();"
   ]
  },
  {
   "cell_type": "markdown",
   "metadata": {},
   "source": [
    "### Hybrid Recommender Engine\n",
    "\n",
    "For the examples below, we will assume that the catalog of movies from [MovieLens 100K](https://grouplens.org/datasets/movielens/100k/) is already created, ratings sent by users are already saved and the dataset has been trained. Thus, the system is ready to recommend new movies. Let us recall that we have chosen the [Hybrid Recommender Engine](https://developers.sherpa.ai/recommender/custom-content-recommendation-api/how-it-works#recommendations), to build the recommendations.\n",
    "\n",
    "Let us consider user 147, a 40-year-old, female librarian that lives within zip code 02143:"
   ]
  },
  {
   "cell_type": "code",
   "execution_count": null,
   "metadata": {},
   "outputs": [],
   "source": [
    "SherpaRequest(SherpaRequest.Verb.GET, \"/v2/recomm/users/147\").perform_request();"
   ]
  },
  {
   "cell_type": "markdown",
   "metadata": {},
   "source": [
    "There are two ways of recommending new items to users: general recommendations and filtered recommendations. Both of them include a percent match score, a number between 0 and 100 that indicates the degree of affinity between the recommended entity and the recipient.\n",
    "\n",
    "#### General Recommendations\n",
    "\n",
    "The first and most general way of recommending simply consists of returning the most suitable movies, without any further restrictions. The response contains five movies which might be of interest to the user, taking into account the previous interactions."
   ]
  },
  {
   "cell_type": "code",
   "execution_count": null,
   "metadata": {},
   "outputs": [],
   "source": [
    "SherpaRequest(SherpaRequest.Verb.GET, \"/v2/recomm/movies/users/147/items?limit=5\").perform_request();"
   ]
  },
  {
   "cell_type": "markdown",
   "metadata": {},
   "source": [
    "**Note**: The `limit` parameter is optional, but preferable. If it is not used, the API can return up to 500 items. For pagination, use the `afterId` parameter.\n",
    "\n",
    "#### Filtered Recommendations\n",
    "\n",
    "When making recommendations, we can also impose restrictions on the set of recommendable elements. Using [RSQL](https://developers.sherpa.ai/recommender/custom-content-recommendation-api/api-reference/rsql), we can define conditions to be fulfilled by the items to be recommended. It is important for the attributes used here to be indexed, in order to obtain recommendations in an acceptable amount of time (refer to the [documentation](https://developers.sherpa.ai/recommender/custom-content-recommendation-api/api-reference/items#add-item-attribute) for further details).\n",
    "\n",
    "In our [MovieLens 100K](https://grouplens.org/datasets/movielens/100k/) example, we have defined the year attribute to be indexed. So, let's imagine that user `147` would like to watch a movie, but an old one (from before 1970, for instance). These are the five movies recommended by the API:"
   ]
  },
  {
   "cell_type": "code",
   "execution_count": null,
   "metadata": {},
   "outputs": [],
   "source": [
    "SherpaRequest(SherpaRequest.Verb.GET, \"/v2/recomm/movies/users/147/items?limit=5&filter=year=le=1970\").perform_request();"
   ]
  },
  {
   "cell_type": "markdown",
   "metadata": {},
   "source": [
    "## Next steps\n",
    "This is the end of the tutorial. You can now continue exploring the API by checking the [API Reference](https://developers.sherpa.ai/recommender/custom-content-recommendation-api/api-reference/introduction) of the [Sherpa developers](https://developers.sherpa.ai) site.\n",
    "\n",
    "**Note**: The API is meant to work with a unique set of users, regardless of the number of item catalogs. Therefore, we recommend deleting any existing datasets, before trying a new one.\n",
    "\n",
    "Thank you!"
   ]
  }
 ],
 "metadata": {
  "kernelspec": {
   "display_name": "Python 3",
   "language": "python",
   "name": "python3"
  },
  "language_info": {
   "codemirror_mode": {
    "name": "ipython",
    "version": 3
   },
   "file_extension": ".py",
   "mimetype": "text/x-python",
   "name": "python",
   "nbconvert_exporter": "python",
   "pygments_lexer": "ipython3",
   "version": "3.8.3"
  }
 },
 "nbformat": 4,
 "nbformat_minor": 4
}
